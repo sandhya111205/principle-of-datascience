{
  "nbformat": 4,
  "nbformat_minor": 0,
  "metadata": {
    "colab": {
      "provenance": [],
      "include_colab_link": true
    },
    "kernelspec": {
      "name": "python3",
      "display_name": "Python 3"
    },
    "language_info": {
      "name": "python"
    }
  },
  "cells": [
    {
      "cell_type": "markdown",
      "metadata": {
        "id": "view-in-github",
        "colab_type": "text"
      },
      "source": [
        "<a href=\"https://colab.research.google.com/github/sandhya111205/principle-of-datascience/blob/main/cental_tendency_with_and_without_built_in_function.ipynb\" target=\"_parent\"><img src=\"https://colab.research.google.com/assets/colab-badge.svg\" alt=\"Open In Colab\"/></a>"
      ]
    },
    {
      "cell_type": "code",
      "source": [
        "#finding mean without using built in function\n",
        "data=[1,2,3,4,5,6,7,8]\n",
        "sum=0\n",
        "for i in data:\n",
        "  sum=sum+i\n",
        "mean=sum/len(data)\n",
        "print(\"mean (without using built in function) :\",str(mean))\n",
        "\n",
        "#finding mean using built in function\n",
        "import numpy as np\n",
        "print (\"mean  (using built in function) : %s \"%np.mean(data))"
      ],
      "metadata": {
        "colab": {
          "base_uri": "https://localhost:8080/"
        },
        "id": "Bo4iqwEdcdt4",
        "outputId": "cf535d0c-5256-4e85-df75-8003235c677b"
      },
      "execution_count": null,
      "outputs": [
        {
          "output_type": "stream",
          "name": "stdout",
          "text": [
            "mean (without using built in function) : 4.5\n",
            "mean  (using built in function) : 4.5 \n"
          ]
        }
      ]
    },
    {
      "cell_type": "code",
      "source": [
        "#finding median withou using built in function\n",
        "data=[4,7,2,8,6,9,3]\n",
        "n=len(data)\n",
        "data.sort()\n",
        "\n",
        "print (data)\n",
        "if(n%2==0):\n",
        "  m1=data[n/2]\n",
        "  m2=data[(n+1)//2]\n",
        "  median=(m1+m2)//n\n",
        "else:\n",
        "  median=data[n//2]\n",
        "\n",
        "print (\"median(without using built-in function) is\",str(median))\n",
        "\n",
        "\n",
        "\n",
        "#finding median using function\n",
        "import numpy as np\n",
        "print('median(with using functions): %s'%np.median(data))"
      ],
      "metadata": {
        "colab": {
          "base_uri": "https://localhost:8080/"
        },
        "id": "FJ98FLhHd5Ed",
        "outputId": "11bcf763-3191-4c29-c6ee-7d25ab9c76ec"
      },
      "execution_count": null,
      "outputs": [
        {
          "output_type": "stream",
          "name": "stdout",
          "text": [
            "[2, 3, 4, 6, 7, 8, 9]\n",
            "median(without using built-in function) is 6\n",
            "median(with using functions): 6.0\n"
          ]
        }
      ]
    },
    {
      "cell_type": "code",
      "source": [
        "##finding mod without using built in function\n",
        "from collections import Counter\n",
        "def my_mode(sample):\n",
        "  c = Counter(sample)\n",
        "  return [k for k, v in c.items() if v == c.most_common(1)[0][1]]\n",
        "\n",
        "print('mod without using function):')\n",
        "mod1=my_mode([\"male\", \"male\", \"female\", \"male\"])\n",
        "mod2=my_mode([4, 1, 2, 2, 3, 5])\n",
        "print(mod1,'\\n',mod2,'\\n')\n",
        "\n",
        "\n",
        "#finding mod using functions\n",
        "\n",
        "import statistics as st\n",
        "print('mod (with function): %s'%st.mode([\"male\", \"male\", \"female\", \"male\"]))\n",
        "print('mod (with function): %s'%st.mode([4, 1, 2, 2, 3, 5, 4]))"
      ],
      "metadata": {
        "colab": {
          "base_uri": "https://localhost:8080/"
        },
        "id": "qHwjN_kKlyIh",
        "outputId": "1adcb4f2-b4da-4b3d-bd0f-c4fc57448997"
      },
      "execution_count": null,
      "outputs": [
        {
          "output_type": "stream",
          "name": "stdout",
          "text": [
            "mod without using function):\n",
            "['male'] \n",
            " [2] \n",
            "\n",
            "mod (with function): male\n",
            "mod (with function): 4\n"
          ]
        }
      ]
    },
    {
      "cell_type": "code",
      "source": [],
      "metadata": {
        "id": "bLyut8OTAqrG"
      },
      "execution_count": null,
      "outputs": []
    }
  ]
}
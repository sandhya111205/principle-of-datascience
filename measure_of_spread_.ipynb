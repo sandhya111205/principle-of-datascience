{
  "nbformat": 4,
  "nbformat_minor": 0,
  "metadata": {
    "colab": {
      "provenance": [],
      "include_colab_link": true
    },
    "kernelspec": {
      "name": "python3",
      "display_name": "Python 3"
    },
    "language_info": {
      "name": "python"
    }
  },
  "cells": [
    {
      "cell_type": "markdown",
      "metadata": {
        "id": "view-in-github",
        "colab_type": "text"
      },
      "source": [
        "<a href=\"https://colab.research.google.com/github/sandhya111205/principle-of-datascience/blob/main/measure_of_spread_.ipynb\" target=\"_parent\"><img src=\"https://colab.research.google.com/assets/colab-badge.svg\" alt=\"Open In Colab\"/></a>"
      ]
    },
    {
      "cell_type": "code",
      "execution_count": null,
      "metadata": {
        "colab": {
          "base_uri": "https://localhost:8080/"
        },
        "id": "1YwD1l6P_mx_",
        "outputId": "401445b2-f3aa-4f17-adf6-ad3af2943f18"
      },
      "outputs": [
        {
          "output_type": "stream",
          "name": "stdout",
          "text": [
            "range(without function) 5\n",
            "range(with function) 5\n"
          ]
        }
      ],
      "source": [
        "#range without function\n",
        "\n",
        "minimum=maximum=data[0]\n",
        "for num in data:\n",
        "    if num<=minimum:\n",
        "        minimum=num\n",
        "    else:\n",
        "        maximum=num\n",
        "range=maximum-minimum\n",
        "print(\"range(without function)\",range)\n",
        "\n",
        "#range with function\n",
        "import numpy as np\n",
        "data=[1,2,3,4,5,6]\n",
        "min=np.min(data)\n",
        "max=np.max(data)\n",
        "range1=max-min\n",
        "print('range(with function)',range1)\n"
      ]
    },
    {
      "cell_type": "code",
      "source": [
        "#variance without function\n",
        "data = [1, 2, 3, 4, 5, 6]\n",
        "\n",
        "#  Calculate the mean\n",
        "mean =sum(data) / len(data)\n",
        "\n",
        "#  Calculate the squared differences from the mean\n",
        "squared_diff = [(x - mean) ** 2 for x in data]\n",
        "\n",
        "#  Sum up the squared differences\n",
        "sum_squared_diff = sum(squared_diff)\n",
        "\n",
        "# Step 4: Calculate the variance\n",
        "variance1 = sum_squared_diff / len(data)\n",
        "variance2 = sum_squared_diff / (len(data)-1)\n",
        "\n",
        "print(\" simple Variance(without function):\", variance1)\n",
        "print(\"population Variance:\", variance2)\n",
        "\n",
        "\n",
        "#using function\n",
        "import numpy as np\n",
        "data = [1, 2, 3, 4, 5, 6]\n",
        "print(\"variance(with function):\",np.var(data))\n",
        "\n"
      ],
      "metadata": {
        "colab": {
          "base_uri": "https://localhost:8080/"
        },
        "id": "73qlVOr0_-QQ",
        "outputId": "221997c9-ed13-41dc-de43-cd2c34a0343e"
      },
      "execution_count": null,
      "outputs": [
        {
          "output_type": "stream",
          "name": "stdout",
          "text": [
            " simple Variance(without function): 2.9166666666666665\n",
            "population Variance: 3.5\n",
            "variance(with function): 2.9166666666666665\n"
          ]
        }
      ]
    },
    {
      "cell_type": "code",
      "source": [
        "#variance without function\n",
        "data = [1, 2, 3, 4, 5, 6]\n",
        "\n",
        "#  Calculate the mean\n",
        "mean =sum(data) / len(data)\n",
        "\n",
        "#  Calculate the squared differences from the mean\n",
        "squared_diff = [(x - mean) ** 2 for x in data]\n",
        "\n",
        "#  Sum up the squared differences\n",
        "sum_squared_diff = sum(squared_diff)\n",
        "\n",
        "# Step 4: Calculate the variance\n",
        "variance1 = sum_squared_diff / len(data)\n",
        "variance2 = sum_squared_diff / (len(data)-1)\n",
        "\n",
        "print(\" simple Variance(without function):\", variance1)\n",
        "print(\"population Variance:\", variance2)\n",
        "\n",
        "\n",
        "#using function\n",
        "import numpy as np\n",
        "data = [1, 2, 3, 4, 5, 6]\n",
        "print(\"variance(with function):\",np.var(data))\n",
        "\n"
      ],
      "metadata": {
        "colab": {
          "base_uri": "https://localhost:8080/"
        },
        "id": "o-RowdpQAFmP",
        "outputId": "14e0f465-16a4-456b-b87c-1bec27aa905c"
      },
      "execution_count": null,
      "outputs": [
        {
          "output_type": "stream",
          "name": "stdout",
          "text": [
            " simple Standard Deviation(without function): 1.707825127659933\n",
            "population Standard Deviation: 1.8708286933869707\n",
            "standard deviation(with function): 1.707825127659933\n"
          ]
        }
      ]
    },
    {
      "cell_type": "code",
      "source": [
        "#IQR using function\n",
        "from scipy import stats\n",
        "\n",
        "\n",
        "data = [1, 19, 7, 6, 5, 9, 12, 27, 18, 2, 15]\n",
        "print(sum(data))\n",
        "\n",
        "IQR = stats.iqr(data, interpolation = 'midpoint')\n",
        "\n",
        "print(IQR)\n",
        "#IQR without using functtion\n",
        "\n"
      ],
      "metadata": {
        "colab": {
          "base_uri": "https://localhost:8080/"
        },
        "id": "levokG5ddfM8",
        "outputId": "8b57dd11-37e0-4111-d68b-81b9725d7925"
      },
      "execution_count": null,
      "outputs": [
        {
          "output_type": "stream",
          "name": "stdout",
          "text": [
            "121\n",
            "11.0\n"
          ]
        }
      ]
    },
    {
      "cell_type": "code",
      "source": [
        "# Python3 program to find IQR of\n",
        "# a data set\n",
        "\n",
        "# Function to give index of the median\n",
        "def median(a, l, r):\n",
        "\tn = r - l + 1\n",
        "\tn = (n + 1) // 2 - 1\n",
        "\treturn n + l\n",
        "\n",
        "# Function to calculate IQR\n",
        "def IQR(a, n):\n",
        "\n",
        "\ta.sort()\n",
        "\n",
        "\t# Index of median of entire data\n",
        "\tmid_index = median(a, 0, n)\n",
        "\n",
        "\t# Median of first half\n",
        "\tQ1 = a[median(a, 0, mid_index)]\n",
        "\tprint(Q1)\n",
        "\n",
        "\t# Median of second half\n",
        "\tQ3 = a[ median(a, mid_index + 1, n)]\n",
        "\tprint(Q3)\n",
        "\n",
        "\t# IQR calculation\n",
        "\treturn (Q3 - Q1)\n",
        "\n",
        "# Driver Function\n",
        "if __name__=='__main__':\n",
        "\ta = [1, 19, 7, 6, 5, 9, 12, 27, 18, 2, 15]\n",
        "\tn = len(a)\n",
        "\tprint(IQR(a, n))\n",
        "\n",
        "\n"
      ],
      "metadata": {
        "colab": {
          "base_uri": "https://localhost:8080/"
        },
        "id": "_sZTjWxtjYXa",
        "outputId": "b34480fe-6767-41e6-9ea1-db440fa1cf19"
      },
      "execution_count": null,
      "outputs": [
        {
          "output_type": "stream",
          "name": "stdout",
          "text": [
            "5\n",
            "18\n",
            "13\n"
          ]
        }
      ]
    },
    {
      "cell_type": "code",
      "source": [
        "import numpy as np\n",
        "\n",
        "#define array of data\n",
        "data = np.array([1, 19, 7, 6, 5, 9, 12, 27, 18, 2, 15])\n",
        "\n",
        "#calculate interquartile range\n",
        "q3, q1 = np.percentile(data, [75 ,25])\n",
        "iqr = q3 - q1\n",
        "\n",
        "#display interquartile range\n",
        "iqr"
      ],
      "metadata": {
        "colab": {
          "base_uri": "https://localhost:8080/"
        },
        "id": "Zi07i-oj0D7u",
        "outputId": "4969859c-c63b-4b5e-8659-cdf106c2f315"
      },
      "execution_count": null,
      "outputs": [
        {
          "output_type": "execute_result",
          "data": {
            "text/plain": [
              "11.0"
            ]
          },
          "metadata": {},
          "execution_count": 6
        }
      ]
    },
    {
      "cell_type": "code",
      "source": [],
      "metadata": {
        "id": "zHX_R9YV1Q5m"
      },
      "execution_count": null,
      "outputs": []
    }
  ]
}
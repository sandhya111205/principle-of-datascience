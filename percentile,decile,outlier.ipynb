{
  "nbformat": 4,
  "nbformat_minor": 0,
  "metadata": {
    "colab": {
      "provenance": [],
      "include_colab_link": true
    },
    "kernelspec": {
      "name": "python3",
      "display_name": "Python 3"
    },
    "language_info": {
      "name": "python"
    }
  },
  "cells": [
    {
      "cell_type": "markdown",
      "metadata": {
        "id": "view-in-github",
        "colab_type": "text"
      },
      "source": [
        "<a href=\"https://colab.research.google.com/github/sandhya111205/principle-of-datascience/blob/main/percentile%2Cdecile%2Coutlier.ipynb\" target=\"_parent\"><img src=\"https://colab.research.google.com/assets/colab-badge.svg\" alt=\"Open In Colab\"/></a>"
      ]
    },
    {
      "cell_type": "code",
      "execution_count": null,
      "metadata": {
        "colab": {
          "base_uri": "https://localhost:8080/"
        },
        "id": "J2yrXg06MhFH",
        "outputId": "e9df5ca0-49a4-4c13-81a7-b6fea385b471"
      },
      "outputs": [
        {
          "output_type": "stream",
          "name": "stdout",
          "text": [
            "arr :  [20, 2, 7, 1, 34]\n",
            "50th percentile of arr :  7.0\n",
            "25th percentile of arr :  2.0\n",
            "75th percentile of arr :  20.0\n"
          ]
        }
      ],
      "source": [
        "# Python Program illustrating\n",
        "# numpy.percentile() method\n",
        "\n",
        "import numpy as np\n",
        "\n",
        "# 1D array\n",
        "arr = [20, 2, 7, 1, 34]\n",
        "print(\"arr : \", arr)\n",
        "print(\"50th percentile of arr : \",\n",
        "\tnp.percentile(arr, 50))\n",
        "print(\"25th percentile of arr : \",\n",
        "\tnp.percentile(arr, 25))\n",
        "print(\"75th percentile of arr : \",\n",
        "\tnp.percentile(arr, 75))\n"
      ]
    },
    {
      "cell_type": "code",
      "source": [
        "import statistics as s\n",
        "\n",
        "x = [1, 5, 7, 5, 43, 43, 8, 43, 6, 65, 63, 42, 1, 76, 43, 87, 53, 54]\n",
        "\n",
        "deciles = s.quantiles(x, n=5)\n",
        "print(\"Deciles are: \" + str(deciles))"
      ],
      "metadata": {
        "colab": {
          "base_uri": "https://localhost:8080/"
        },
        "id": "RKkcyozYNYRk",
        "outputId": "b0d2359a-1c9a-4d24-9434-003f7d559790"
      },
      "execution_count": null,
      "outputs": [
        {
          "output_type": "stream",
          "name": "stdout",
          "text": [
            "Deciles are: [5.0, 28.4, 43.0, 63.4]\n"
          ]
        }
      ]
    },
    {
      "cell_type": "code",
      "source": [
        "#quartile\n",
        "import numpy\n",
        "\n",
        "values = [13,21,21,40,42,48,55,72]\n",
        "\n",
        "x = numpy.quantile(values, [0,0.25,0.5,0.75,1])\n",
        "\n",
        "print(x)"
      ],
      "metadata": {
        "colab": {
          "base_uri": "https://localhost:8080/"
        },
        "id": "2_DpKCvANac0",
        "outputId": "eb5b385c-0541-4113-b732-538c73d3ca5a"
      },
      "execution_count": null,
      "outputs": [
        {
          "output_type": "stream",
          "name": "stdout",
          "text": [
            "[13.   21.   41.   49.75 72.  ]\n"
          ]
        }
      ]
    }
  ]
}
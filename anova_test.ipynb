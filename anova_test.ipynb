{
  "nbformat": 4,
  "nbformat_minor": 0,
  "metadata": {
    "colab": {
      "provenance": [],
      "authorship_tag": "ABX9TyNWcZLhbAbZv94cpCokD1tg",
      "include_colab_link": true
    },
    "kernelspec": {
      "name": "python3",
      "display_name": "Python 3"
    },
    "language_info": {
      "name": "python"
    }
  },
  "cells": [
    {
      "cell_type": "markdown",
      "metadata": {
        "id": "view-in-github",
        "colab_type": "text"
      },
      "source": [
        "<a href=\"https://colab.research.google.com/github/sandhya111205/principle-of-datascience/blob/main/anova_test.ipynb\" target=\"_parent\"><img src=\"https://colab.research.google.com/assets/colab-badge.svg\" alt=\"Open In Colab\"/></a>"
      ]
    },
    {
      "cell_type": "code",
      "execution_count": null,
      "metadata": {
        "id": "T4TpBqM72aRu"
      },
      "outputs": [],
      "source": []
    },
    {
      "cell_type": "code",
      "execution_count": 1,
      "metadata": {
        "colab": {
          "base_uri": "https://localhost:8080/"
        },
        "id": "NN2bsp87d3f2",
        "outputId": "4d82163d-ea99-4346-fa9c-67012173cac9"
      },
      "outputs": [
        {
          "output_type": "stream",
          "name": "stdout",
          "text": [
            "Mounted at /content/drive\n"
          ]
        }
      ],
      "source": [
        "from google.colab import drive\n",
        "drive.mount('/content/drive')"
      ]
    },
    {
      "cell_type": "code",
      "source": [
        "import pandas as pd\n",
        "from sklearn.feature_selection import SelectKBest,f_regression\n",
        "from sklearn.model_selection import train_test_split\n",
        "from sklearn.svm import SVC\n",
        "from sklearn.metrics import accuracy_score, classification_report"
      ],
      "metadata": {
        "id": "tSVar7G8d5Lq"
      },
      "execution_count": 7,
      "outputs": []
    },
    {
      "cell_type": "code",
      "source": [
        "# Feature selection using chi-square test\n",
        "def perform_f_regression_feature_selection(X, y, k=5):\n",
        "    f_classif_selector = SelectKBest(f_regression, k=k)\n",
        "    X_new = f_classif_selector.fit_transform(X, y)\n",
        "    return X_new"
      ],
      "metadata": {
        "id": "SguWOQqqeF0S"
      },
      "execution_count": 8,
      "outputs": []
    },
    {
      "cell_type": "code",
      "source": [
        "# Split data into training and testing sets\n",
        "def split_data(X, y, test_size=0.2, random_state=None):\n",
        "    X_train, X_test, y_train, y_test = train_test_split(X, y, test_size=test_size, random_state=random_state)\n",
        "    return X_train, X_test, y_train, y_test"
      ],
      "metadata": {
        "id": "je_v5syleLPY"
      },
      "execution_count": 9,
      "outputs": []
    },
    {
      "cell_type": "code",
      "source": [
        "def train_svm(X_train, y_train, C=1.0, kernel='linear'):\n",
        "    svm_classifier = SVC(C=C, kernel=kernel)\n",
        "    svm_classifier.fit(X_train, y_train)\n",
        "    return svm_classifier"
      ],
      "metadata": {
        "id": "nsuU8x8TeNwo"
      },
      "execution_count": 10,
      "outputs": []
    },
    {
      "cell_type": "code",
      "source": [
        "def evaluate_svm(svm_classifier, X_test, y_test):\n",
        "    y_pred = svm_classifier.predict(X_test)\n",
        "    accuracy = accuracy_score(y_test, y_pred)\n",
        "    report = classification_report(y_test, y_pred)\n",
        "    return accuracy, report"
      ],
      "metadata": {
        "id": "rtX6ArmbeQiA"
      },
      "execution_count": 11,
      "outputs": []
    },
    {
      "cell_type": "code",
      "source": [
        "if __name__ == \"__main__\":\n",
        "    # Load your data into a pandas DataFrame\n",
        "    # Replace 'your_data.csv' with the actual file path of your dataset\n",
        "    data = pd.read_table('/content/drive/MyDrive/principle of datascience/ datasets/fruit_data_with_colors.txt')\n",
        "     # Separate the target variable from features\n",
        "    dff = data.drop('fruit_label', axis=1)\n",
        "    df = dff.drop('fruit_subtype', axis=1)\n",
        "    X = df.drop('fruit_name', axis=1)\n",
        "    y = data['fruit_label']\n",
        "\n",
        "    # Step 1: Perform chi-square feature selection\n",
        "    k_selected_features = 4   # Adjust this value based on how many top features you want to select\n",
        "    X_selected = perform_f_regression_feature_selection(X, y, k = k_selected_features)\n",
        "\n",
        "    # Step 2: Split the data into training and testing sets\n",
        "    X_train, X_test, y_train, y_test = split_data(X_selected, y)\n",
        "\n",
        "    # Step 3: Train the SVM classifier\n",
        "    svm_classifier = train_svm(X_train, y_train)\n",
        "\n",
        "    # Step 4: Evaluate the SVM classifier\n",
        "    accuracy, report = evaluate_svm(svm_classifier, X_test, y_test)\n",
        "    print(\"Accuracy:\", accuracy)\n",
        "    print(\"Classification Report:\")\n",
        "    print(report)\n",
        "\n"
      ],
      "metadata": {
        "colab": {
          "base_uri": "https://localhost:8080/"
        },
        "id": "r43UiJ0KeUHQ",
        "outputId": "57c023cc-1f45-4a83-d9e3-049bb079bdfa"
      },
      "execution_count": 12,
      "outputs": [
        {
          "output_type": "stream",
          "name": "stdout",
          "text": [
            "Accuracy: 1.0\n",
            "Classification Report:\n",
            "              precision    recall  f1-score   support\n",
            "\n",
            "           1       1.00      1.00      1.00         3\n",
            "           2       1.00      1.00      1.00         1\n",
            "           3       1.00      1.00      1.00         2\n",
            "           4       1.00      1.00      1.00         6\n",
            "\n",
            "    accuracy                           1.00        12\n",
            "   macro avg       1.00      1.00      1.00        12\n",
            "weighted avg       1.00      1.00      1.00        12\n",
            "\n"
          ]
        }
      ]
    }
  ]
}
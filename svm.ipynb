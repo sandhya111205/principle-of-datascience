{
  "nbformat": 4,
  "nbformat_minor": 0,
  "metadata": {
    "colab": {
      "provenance": [],
      "include_colab_link": true
    },
    "kernelspec": {
      "name": "python3",
      "display_name": "Python 3"
    },
    "language_info": {
      "name": "python"
    }
  },
  "cells": [
    {
      "cell_type": "markdown",
      "metadata": {
        "id": "view-in-github",
        "colab_type": "text"
      },
      "source": [
        "<a href=\"https://colab.research.google.com/github/sandhya111205/principle-of-datascience/blob/main/svm.ipynb\" target=\"_parent\"><img src=\"https://colab.research.google.com/assets/colab-badge.svg\" alt=\"Open In Colab\"/></a>"
      ]
    },
    {
      "cell_type": "code",
      "execution_count": null,
      "metadata": {
        "colab": {
          "base_uri": "https://localhost:8080/"
        },
        "id": "vIIz58GIKrlt",
        "outputId": "272ee205-4823-4e06-fdcf-af3bf36f31a7"
      },
      "outputs": [
        {
          "output_type": "stream",
          "name": "stdout",
          "text": [
            "    fruit_label fruit_name     fruit_subtype  mass  width  height  color_score\n",
            "0             1      apple      granny_smith   192    8.4     7.3         0.55\n",
            "1             1      apple      granny_smith   180    8.0     6.8         0.59\n",
            "2             1      apple      granny_smith   176    7.4     7.2         0.60\n",
            "3             2   mandarin          mandarin    86    6.2     4.7         0.80\n",
            "4             2   mandarin          mandarin    84    6.0     4.6         0.79\n",
            "5             2   mandarin          mandarin    80    5.8     4.3         0.77\n",
            "6             2   mandarin          mandarin    80    5.9     4.3         0.81\n",
            "7             2   mandarin          mandarin    76    5.8     4.0         0.81\n",
            "8             1      apple          braeburn   178    7.1     7.8         0.92\n",
            "9             1      apple          braeburn   172    7.4     7.0         0.89\n",
            "10            1      apple          braeburn   166    6.9     7.3         0.93\n",
            "11            1      apple          braeburn   172    7.1     7.6         0.92\n",
            "12            1      apple          braeburn   154    7.0     7.1         0.88\n",
            "13            1      apple  golden_delicious   164    7.3     7.7         0.70\n",
            "14            1      apple  golden_delicious   152    7.6     7.3         0.69\n",
            "15            1      apple  golden_delicious   156    7.7     7.1         0.69\n",
            "16            1      apple  golden_delicious   156    7.6     7.5         0.67\n",
            "17            1      apple  golden_delicious   168    7.5     7.6         0.73\n",
            "18            1      apple       cripps_pink   162    7.5     7.1         0.83\n",
            "19            1      apple       cripps_pink   162    7.4     7.2         0.85\n",
            "20            1      apple       cripps_pink   160    7.5     7.5         0.86\n",
            "21            1      apple       cripps_pink   156    7.4     7.4         0.84\n",
            "22            1      apple       cripps_pink   140    7.3     7.1         0.87\n",
            "23            1      apple       cripps_pink   170    7.6     7.9         0.88\n",
            "24            3     orange     spanish_jumbo   342    9.0     9.4         0.75\n",
            "25            3     orange     spanish_jumbo   356    9.2     9.2         0.75\n",
            "26            3     orange     spanish_jumbo   362    9.6     9.2         0.74\n",
            "27            3     orange  selected_seconds   204    7.5     9.2         0.77\n",
            "28            3     orange  selected_seconds   140    6.7     7.1         0.72\n",
            "29            3     orange  selected_seconds   160    7.0     7.4         0.81\n",
            "30            3     orange  selected_seconds   158    7.1     7.5         0.79\n",
            "31            3     orange  selected_seconds   210    7.8     8.0         0.82\n",
            "32            3     orange  selected_seconds   164    7.2     7.0         0.80\n",
            "33            3     orange      turkey_navel   190    7.5     8.1         0.74\n",
            "34            3     orange      turkey_navel   142    7.6     7.8         0.75\n",
            "35            3     orange      turkey_navel   150    7.1     7.9         0.75\n",
            "36            3     orange      turkey_navel   160    7.1     7.6         0.76\n",
            "37            3     orange      turkey_navel   154    7.3     7.3         0.79\n",
            "38            3     orange      turkey_navel   158    7.2     7.8         0.77\n",
            "39            3     orange      turkey_navel   144    6.8     7.4         0.75\n",
            "40            3     orange      turkey_navel   154    7.1     7.5         0.78\n",
            "41            3     orange      turkey_navel   180    7.6     8.2         0.79\n",
            "42            3     orange      turkey_navel   154    7.2     7.2         0.82\n",
            "43            4      lemon    spanish_belsan   194    7.2    10.3         0.70\n",
            "44            4      lemon    spanish_belsan   200    7.3    10.5         0.72\n",
            "45            4      lemon    spanish_belsan   186    7.2     9.2         0.72\n",
            "46            4      lemon    spanish_belsan   216    7.3    10.2         0.71\n",
            "47            4      lemon    spanish_belsan   196    7.3     9.7         0.72\n",
            "48            4      lemon    spanish_belsan   174    7.3    10.1         0.72\n",
            "49            4      lemon           unknown   132    5.8     8.7         0.73\n",
            "50            4      lemon           unknown   130    6.0     8.2         0.71\n",
            "51            4      lemon           unknown   116    6.0     7.5         0.72\n",
            "52            4      lemon           unknown   118    5.9     8.0         0.72\n",
            "53            4      lemon           unknown   120    6.0     8.4         0.74\n",
            "54            4      lemon           unknown   116    6.1     8.5         0.71\n",
            "55            4      lemon           unknown   116    6.3     7.7         0.72\n",
            "56            4      lemon           unknown   116    5.9     8.1         0.73\n",
            "57            4      lemon           unknown   152    6.5     8.5         0.72\n",
            "58            4      lemon           unknown   118    6.1     8.1         0.70\n"
          ]
        }
      ],
      "source": [
        "6%matplotlib inline\n",
        "import pandas as pd\n",
        "import matplotlib.pyplot as plt\n",
        "fruits = pd.read_table('/content/drive/MyDrive/principle of datascience/ datasets/fruit_data_with_colors.txt')\n",
        "print(fruits)"
      ]
    },
    {
      "cell_type": "code",
      "source": [
        "print(fruits.shape)"
      ],
      "metadata": {
        "colab": {
          "base_uri": "https://localhost:8080/"
        },
        "id": "qLnuRF0SL27D",
        "outputId": "b9207f1c-13e1-4d00-99ad-eaa245a7b552"
      },
      "execution_count": null,
      "outputs": [
        {
          "output_type": "stream",
          "name": "stdout",
          "text": [
            "(59, 7)\n"
          ]
        }
      ]
    },
    {
      "cell_type": "code",
      "source": [
        "print(fruits.groupby('fruit_name').size())"
      ],
      "metadata": {
        "colab": {
          "base_uri": "https://localhost:8080/"
        },
        "id": "apUNCWw4L3it",
        "outputId": "c681d48a-2a80-4841-e5b0-e7c264383038"
      },
      "execution_count": null,
      "outputs": [
        {
          "output_type": "stream",
          "name": "stdout",
          "text": [
            "fruit_name\n",
            "apple       19\n",
            "lemon       16\n",
            "mandarin     5\n",
            "orange      19\n",
            "dtype: int64\n"
          ]
        }
      ]
    },
    {
      "cell_type": "code",
      "source": [
        "import seaborn as sns\n",
        "import pandas as pd\n",
        "\n",
        "fruits = pd.read_table('/content/drive/MyDrive/principle of datascience/ datasets/fruit_data_with_colors.txt')\n",
        "sns.countplot(x='fruit_name',data=fruits,label=\"Count\")\n",
        "plt.show()"
      ],
      "metadata": {
        "colab": {
          "base_uri": "https://localhost:8080/",
          "height": 450
        },
        "id": "euI4ofeaL7Oq",
        "outputId": "1cc23f87-b270-49a3-a8a6-0d2fe831fa50"
      },
      "execution_count": null,
      "outputs": [
        {
          "output_type": "display_data",
          "data": {
            "text/plain": [
              "<Figure size 640x480 with 1 Axes>"
            ],
            "image/png": "[encoded data removed]"
          },
          "metadata": {}
        }
      ]
    },
    {
      "cell_type": "code",
      "source": [
        "import pandas as pd\n",
        "\n",
        "fruits = pd.read_table('/content/drive/MyDrive/principle of datascience/ datasets/fruit_data_with_colors.txt')\n",
        "feature_names = ['mass', 'width', 'height', 'color_score']\n",
        "X = fruits[feature_names]\n",
        "y = fruits['fruit_label']                               # y only label\n",
        "\n",
        "from sklearn.model_selection import train_test_split\n",
        "X_train, X_test, y_train, y_test = train_test_split(X, y, random_state=0)\n",
        "from sklearn.preprocessing import MinMaxScaler\n",
        "scaler = MinMaxScaler()\n",
        "X_train = scaler.fit_transform(X_train)\n",
        "X_test = scaler.transform(X_test)\n",
        "#print(\"x_train:\\n\",X_train, \"\\nx_test:\\n\",X_test)\n"
      ],
      "metadata": {
        "id": "7noYbCcxMOTC"
      },
      "execution_count": null,
      "outputs": []
    },
    {
      "cell_type": "code",
      "source": [
        "# Decision Tree classifier\n",
        "from sklearn.tree import DecisionTreeClassifier\n",
        "clf = DecisionTreeClassifier().fit(X_train, y_train)\n",
        "print('Accuracy of Decision Tree classifier on training set: {:.2f}'\n",
        "     .format(clf.score(X_train, y_train)))\n",
        "print('Accuracy of Decision Tree classifier on test set: {:.2f}'\n",
        "     .format(clf.score(X_test, y_test)))"
      ],
      "metadata": {
        "colab": {
          "base_uri": "https://localhost:8080/"
        },
        "id": "dOEWepu8MrR6",
        "outputId": "6693f3c8-7988-447f-f854-c4ef624ff01f"
      },
      "execution_count": null,
      "outputs": [
        {
          "output_type": "stream",
          "name": "stdout",
          "text": [
            "Accuracy of Decision Tree classifier on training set: 1.00\n",
            "Accuracy of Decision Tree classifier on test set: 0.73\n"
          ]
        }
      ]
    },
    {
      "cell_type": "code",
      "source": [
        "#K-Nearest Neighbors\n",
        "from sklearn.neighbors import KNeighborsClassifier\n",
        "knn = KNeighborsClassifier()\n",
        "knn.fit(X_train, y_train)\n",
        "print('Accuracy of K-NN classifier on training set: {:.2f}'\n",
        "     .format(knn.score(X_train, y_train)))\n",
        "print('Accuracy of K-NN classifier on test set: {:.2f}'\n",
        "     .format(knn.score(X_test, y_test)))"
      ],
      "metadata": {
        "colab": {
          "base_uri": "https://localhost:8080/"
        },
        "id": "IXLDevoMMtkr",
        "outputId": "80ba04e8-63a5-41ba-f06b-0ecdae88c269"
      },
      "execution_count": null,
      "outputs": [
        {
          "output_type": "stream",
          "name": "stdout",
          "text": [
            "Accuracy of K-NN classifier on training set: 0.95\n",
            "Accuracy of K-NN classifier on test set: 1.00\n"
          ]
        }
      ]
    },
    {
      "cell_type": "code",
      "source": [
        "#Logistic Regression\n",
        "from sklearn.linear_model import LogisticRegression\n",
        "logreg = LogisticRegression()\n",
        "logreg.fit(X_train, y_train)\n",
        "print('Accuracy of Logistic regression classifier on training set: {:.2f}'\n",
        "     .format(logreg.score(X_train, y_train)))\n",
        "print('Accuracy of Logistic regression classifier on test set: {:.2f}'\n",
        "     .format(logreg.score(X_test, y_test)))"
      ],
      "metadata": {
        "colab": {
          "base_uri": "https://localhost:8080/"
        },
        "id": "4nlS04nwM3I6",
        "outputId": "52cb24f3-a823-489b-ecfe-1bb707c75247"
      },
      "execution_count": null,
      "outputs": [
        {
          "output_type": "stream",
          "name": "stdout",
          "text": [
            "Accuracy of Logistic regression classifier on training set: 0.75\n",
            "Accuracy of Logistic regression classifier on test set: 0.47\n"
          ]
        }
      ]
    },
    {
      "cell_type": "code",
      "source": [
        "#Support Vector Machine\n",
        "from sklearn.svm import SVC\n",
        "svm = SVC()\n",
        "svm.fit(X_train, y_train)\n",
        "print('Accuracy of SVM classifier on training set: {:.2f}'\n",
        "     .format(svm.score(X_train, y_train)))\n",
        "print('Accuracy of SVM classifier on test set: {:.2f}'\n",
        "     .format(svm.score(X_test, y_test)))"
      ],
      "metadata": {
        "colab": {
          "base_uri": "https://localhost:8080/"
        },
        "id": "Q3ITT_8HNADJ",
        "outputId": "a46c78d3-bce1-4585-aa1b-d4d781d4f45d"
      },
      "execution_count": null,
      "outputs": [
        {
          "output_type": "stream",
          "name": "stdout",
          "text": [
            "Accuracy of SVM classifier on training set: 0.91\n",
            "Accuracy of SVM classifier on test set: 0.80\n"
          ]
        }
      ]
    },
    {
      "cell_type": "code",
      "source": [
        "#Support Vector Machine(linear)\n",
        "from sklearn.svm import SVC\n",
        "svm = SVC()\n",
        "svm.fit(X_train, y_train)\n",
        "print('Accuracy of SVM classifier on training set: {:.2f}'\n",
        "     .format(svm.score(X_train, y_train)))\n",
        "print('Accuracy of SVM classifier on test set: {:.2f}'\n",
        "     .format(svm.score(X_test, y_test)))"
      ],
      "metadata": {
        "colab": {
          "base_uri": "https://localhost:8080/"
        },
        "id": "kq_NPt6sQZJy",
        "outputId": "53466799-c3fb-4a07-f4b0-338b6cdb1405"
      },
      "execution_count": null,
      "outputs": [
        {
          "output_type": "stream",
          "name": "stdout",
          "text": [
            "Accuracy of SVM classifier on training set: 0.91\n",
            "Accuracy of SVM classifier on test set: 0.80\n"
          ]
        }
      ]
    },
    {
      "cell_type": "code",
      "source": [
        "#support vector machine(non-linear)\n",
        "from sklearn.svm import SVC\n",
        "from sklearn.datasets import make_circles\n",
        "from sklearn.model_selection import train_test_split\n",
        "from sklearn.preprocessing import StandardScaler\n",
        "import numpy as np\n",
        "\n",
        "\n",
        "\n",
        "\n",
        "\n",
        "# Split the dataset into training and test sets\n",
        "X_train, X_test, y_train, y_test = train_test_split(X, y, test_size=0.2, random_state=42)\n",
        "\n",
        "# Scale the features\n",
        "scaler = StandardScaler()\n",
        "X_train = scaler.fit_transform(X_train)\n",
        "X_test = scaler.transform(X_test)\n",
        "\n",
        "# Create a non-linear SVM classifier\n",
        "svm = SVC(kernel='rbf', random_state=42)\n",
        "\n",
        "# Train the classifier\n",
        "svm.fit(X_train, y_train)\n",
        "\n",
        "# Evaluate the accuracy of the classifier\n",
        "train_accuracy = svm.score(X_train, y_train)\n",
        "test_accuracy = svm.score(X_test, y_test)\n",
        "\n",
        "# Print the accuracies\n",
        "print('Accuracy of SVM classifier on training set: {:.2f}'.format(train_accuracy))\n",
        "print('Accuracy of SVM classifier on test set: {:.2f}'.format(test_accuracy))\n",
        "\n"
      ],
      "metadata": {
        "colab": {
          "base_uri": "https://localhost:8080/"
        },
        "id": "kch-OiHBy2lZ",
        "outputId": "2170e32f-e429-4bd0-cafe-281a492cb918"
      },
      "execution_count": null,
      "outputs": [
        {
          "output_type": "stream",
          "name": "stdout",
          "text": [
            "Accuracy of SVM classifier on training set: 0.98\n",
            "Accuracy of SVM classifier on test set: 0.92\n"
          ]
        }
      ]
    }
  ]
}
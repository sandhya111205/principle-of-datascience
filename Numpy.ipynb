{
  "nbformat": 4,
  "nbformat_minor": 0,
  "metadata": {
    "colab": {
      "provenance": [],
      "authorship_tag": "ABX9TyNDIk4/fQRCNDV4p3JHHJIO",
      "include_colab_link": true
    },
    "kernelspec": {
      "name": "python3",
      "display_name": "Python 3"
    },
    "language_info": {
      "name": "python"
    }
  },
  "cells": [
    {
      "cell_type": "markdown",
      "metadata": {
        "id": "view-in-github",
        "colab_type": "text"
      },
      "source": [
        "<a href=\"https://colab.research.google.com/github/sandhya111205/principle-of-datascience/blob/main/Numpy.ipynb\" target=\"_parent\"><img src=\"https://colab.research.google.com/assets/colab-badge.svg\" alt=\"Open In Colab\"/></a>"
      ]
    },
    {
      "cell_type": "markdown",
      "source": [
        "Perform a numericalanalysis and data manipulation usingnumpy library"
      ],
      "metadata": {
        "id": "WbxoG0kqQbZs"
      }
    },
    {
      "cell_type": "markdown",
      "source": [
        "1.Create a numpy array"
      ],
      "metadata": {
        "id": "M01h92uXQzA7"
      }
    },
    {
      "cell_type": "code",
      "source": [
        "import numpy as np\n",
        "arr1=np.array([1,2,3])\n",
        "print(arr1)"
      ],
      "metadata": {
        "colab": {
          "base_uri": "https://localhost:8080/"
        },
        "id": "9RtBVl4eQ3sE",
        "outputId": "f0b35cd0-585e-4a0c-b922-65d299b04fd2"
      },
      "execution_count": null,
      "outputs": [
        {
          "output_type": "stream",
          "name": "stdout",
          "text": [
            "[1 2 3]\n"
          ]
        }
      ]
    },
    {
      "cell_type": "markdown",
      "source": [
        "2.Access and Manipulate elements in the array"
      ],
      "metadata": {
        "id": "4ZRHQRPbRJAM"
      }
    },
    {
      "cell_type": "code",
      "source": [
        "arr1[2]"
      ],
      "metadata": {
        "colab": {
          "base_uri": "https://localhost:8080/"
        },
        "id": "tekityqqRQtz",
        "outputId": "3a4b43ee-b06b-431f-a9ba-fa130768531b"
      },
      "execution_count": null,
      "outputs": [
        {
          "output_type": "execute_result",
          "data": {
            "text/plain": [
              "3"
            ]
          },
          "metadata": {},
          "execution_count": 2
        }
      ]
    },
    {
      "cell_type": "code",
      "source": [
        "#change the array element\n",
        "arr1[2]=5\n",
        "arr1"
      ],
      "metadata": {
        "colab": {
          "base_uri": "https://localhost:8080/"
        },
        "id": "C15WpHv1Rbn7",
        "outputId": "da4ab02a-e133-4cea-d3dd-815556064073"
      },
      "execution_count": null,
      "outputs": [
        {
          "output_type": "execute_result",
          "data": {
            "text/plain": [
              "array([1, 2, 5])"
            ]
          },
          "metadata": {},
          "execution_count": 3
        }
      ]
    },
    {
      "cell_type": "markdown",
      "source": [
        "3. Create a 2-Dimensional array and check the shape of the array"
      ],
      "metadata": {
        "id": "51facNCvRi_S"
      }
    },
    {
      "cell_type": "code",
      "source": [
        "#create 2d array\n",
        "arr2=np.array([[1,2,3],[4,5,6]])\n",
        "print(arr2)"
      ],
      "metadata": {
        "colab": {
          "base_uri": "https://localhost:8080/"
        },
        "id": "F-ziFiWhR0Of",
        "outputId": "3e753429-b6da-40ea-af07-fc12d3f4b680"
      },
      "execution_count": null,
      "outputs": [
        {
          "output_type": "stream",
          "name": "stdout",
          "text": [
            "[[1 2 3]\n",
            " [4 5 6]]\n"
          ]
        }
      ]
    },
    {
      "cell_type": "code",
      "source": [
        "#check the  shape of the array\n",
        "print(\"The shape is 2 rows and 3 colums :\",arr2.shape)"
      ],
      "metadata": {
        "colab": {
          "base_uri": "https://localhost:8080/"
        },
        "id": "oXglM5FmSKAF",
        "outputId": "9cd1be84-198b-4046-e7b6-b817f91d71cf"
      },
      "execution_count": null,
      "outputs": [
        {
          "output_type": "stream",
          "name": "stdout",
          "text": [
            "The shape is 2 rows and 3 colums : (2, 3)\n"
          ]
        }
      ]
    },
    {
      "cell_type": "markdown",
      "source": [
        "4.Access element from the 2D array using index positions\n"
      ],
      "metadata": {
        "id": "LhY_EKchSbhj"
      }
    },
    {
      "cell_type": "code",
      "source": [
        "#Accessing element from the array\n",
        "print(arr2[0][2])\n",
        "print(arr2[0,2])\n",
        "print(arr2[0,-1])\n",
        "print(arr2[-1,0])"
      ],
      "metadata": {
        "colab": {
          "base_uri": "https://localhost:8080/"
        },
        "id": "qKk0WIEdSmsz",
        "outputId": "c65cc539-f88f-4662-d1a4-ef9ec127644a"
      },
      "execution_count": null,
      "outputs": [
        {
          "output_type": "stream",
          "name": "stdout",
          "text": [
            "3\n",
            "3\n",
            "3\n",
            "4\n"
          ]
        }
      ]
    },
    {
      "cell_type": "markdown",
      "source": [
        "5. Create an an array of type string"
      ],
      "metadata": {
        "id": "y9VX7Es1TJnM"
      }
    },
    {
      "cell_type": "code",
      "source": [
        "#create array of string\n",
        "arr3=np.array(['India','China','USA','Mexico'])\n",
        "print(arr3)"
      ],
      "metadata": {
        "colab": {
          "base_uri": "https://localhost:8080/"
        },
        "id": "JFEELfS3TVBr",
        "outputId": "7fd7bb3a-d290-42d5-a00c-24bbd0433cec"
      },
      "execution_count": null,
      "outputs": [
        {
          "output_type": "stream",
          "name": "stdout",
          "text": [
            "['India' 'China' 'USA' 'Mexico']\n"
          ]
        }
      ]
    },
    {
      "cell_type": "markdown",
      "source": [
        "6.Using the arrange() and linspace() function to evenly space value in a specified interval"
      ],
      "metadata": {
        "id": "VXYVCZmZT82u"
      }
    },
    {
      "cell_type": "code",
      "source": [
        "#using arrange() function to evenly space value in specified interval\n",
        "arr=np.arange(0,20,2)\n",
        "arr\n"
      ],
      "metadata": {
        "colab": {
          "base_uri": "https://localhost:8080/"
        },
        "id": "IMh56P9oUMgL",
        "outputId": "4fbea7f3-e86e-4fe2-af22-0e99615c131b"
      },
      "execution_count": null,
      "outputs": [
        {
          "output_type": "execute_result",
          "data": {
            "text/plain": [
              "array([ 0,  2,  4,  6,  8, 10, 12, 14, 16, 18])"
            ]
          },
          "metadata": {},
          "execution_count": 15
        }
      ]
    },
    {
      "cell_type": "code",
      "source": [
        "#using linspace() function evenly space value in specified interval\n",
        "arr=np.linspace(0,10,20)\n",
        "arr"
      ],
      "metadata": {
        "colab": {
          "base_uri": "https://localhost:8080/"
        },
        "id": "391hiUrKUeok",
        "outputId": "46cccb38-2fd7-4f2c-f628-196a2e67e2c3"
      },
      "execution_count": null,
      "outputs": [
        {
          "output_type": "execute_result",
          "data": {
            "text/plain": [
              "array([ 0.        ,  0.52631579,  1.05263158,  1.57894737,  2.10526316,\n",
              "        2.63157895,  3.15789474,  3.68421053,  4.21052632,  4.73684211,\n",
              "        5.26315789,  5.78947368,  6.31578947,  6.84210526,  7.36842105,\n",
              "        7.89473684,  8.42105263,  8.94736842,  9.47368421, 10.        ])"
            ]
          },
          "metadata": {},
          "execution_count": 18
        }
      ]
    },
    {
      "cell_type": "markdown",
      "source": [
        "7.Create an array of random value between 0 to 1 in a given shape\n"
      ],
      "metadata": {
        "id": "6yzeQ6pmU83s"
      }
    },
    {
      "cell_type": "code",
      "source": [
        "#create an array of random value between 0 & 1\n",
        "arr=np.random.rand(10)\n",
        "print(arr)\n",
        "print('\\n')\n",
        "arr=np.random.rand(3,4)\n",
        "print(arr)"
      ],
      "metadata": {
        "colab": {
          "base_uri": "https://localhost:8080/"
        },
        "id": "zQRzMOnwVHnc",
        "outputId": "5532be2a-9d93-4fa5-c6ed-5c78ac86534a"
      },
      "execution_count": null,
      "outputs": [
        {
          "output_type": "stream",
          "name": "stdout",
          "text": [
            "[0.79638828 0.96183761 0.47262135 0.15020644 0.51511875 0.56013661\n",
            " 0.64977841 0.73988492 0.1622466  0.59964596]\n",
            "\n",
            "\n",
            "[[0.20187742 0.00699809 0.95342301 0.10928346]\n",
            " [0.64542317 0.20602252 0.15812709 0.81995122]\n",
            " [0.1360938  0.70126742 0.67442751 0.26488522]]\n"
          ]
        }
      ]
    },
    {
      "cell_type": "markdown",
      "source": [
        "8.Create an array of constant values in a given shape"
      ],
      "metadata": {
        "id": "jPKzzL2eV5kk"
      }
    },
    {
      "cell_type": "code",
      "source": [
        "#create an arrayof constant value in a given shape\n",
        "print(np.full((4,6),10))"
      ],
      "metadata": {
        "colab": {
          "base_uri": "https://localhost:8080/"
        },
        "id": "4K4O5LMbWD5E",
        "outputId": "06f1d335-2377-4910-f01c-8de676d82536"
      },
      "execution_count": null,
      "outputs": [
        {
          "output_type": "stream",
          "name": "stdout",
          "text": [
            "[[10 10 10 10 10 10]\n",
            " [10 10 10 10 10 10]\n",
            " [10 10 10 10 10 10]\n",
            " [10 10 10 10 10 10]]\n"
          ]
        }
      ]
    },
    {
      "cell_type": "markdown",
      "source": [
        "9.Repeat each element of an array by a specified number of times using repeat() and tile() functions"
      ],
      "metadata": {
        "id": "azgR_wGXWeJ7"
      }
    },
    {
      "cell_type": "code",
      "source": [
        "# Create an array by repetation\n",
        "# Repeat each element of an array by a number of times\n",
        "arr=[0,1,2]\n",
        "print(np.repeat(arr,3))"
      ],
      "metadata": {
        "colab": {
          "base_uri": "https://localhost:8080/"
        },
        "id": "alu3qmEAWt98",
        "outputId": "a770b503-a421-43f4-e83f-f3cd5bc9781c"
      },
      "execution_count": null,
      "outputs": [
        {
          "output_type": "stream",
          "name": "stdout",
          "text": [
            "[0 0 0 1 1 1 2 2 2]\n"
          ]
        }
      ]
    },
    {
      "cell_type": "code",
      "source": [
        "#Repeat an array by a specified number of time using tile () function\n",
        "arr=[0,1,2]\n",
        "print(np.tile(arr,3))"
      ],
      "metadata": {
        "colab": {
          "base_uri": "https://localhost:8080/"
        },
        "id": "2oLesY7FXREL",
        "outputId": "f6cf3af4-d809-43f3-f75e-479a858d9409"
      },
      "execution_count": null,
      "outputs": [
        {
          "output_type": "stream",
          "name": "stdout",
          "text": [
            "[0 1 2 0 1 2 0 1 2]\n"
          ]
        }
      ]
    },
    {
      "cell_type": "markdown",
      "source": [
        "10.Create an identity matrix using eye() and identity() function"
      ],
      "metadata": {
        "id": "2vQFaGsvXuHs"
      }
    },
    {
      "cell_type": "code",
      "source": [
        "#create an identity matrix using eye() function\n",
        "identity_matrix=np.eye(3)\n",
        "print(identity_matrix)"
      ],
      "metadata": {
        "colab": {
          "base_uri": "https://localhost:8080/"
        },
        "id": "MMze56oyX6fs",
        "outputId": "db56be28-74a4-4b54-c60b-0d98cf53136e"
      },
      "execution_count": null,
      "outputs": [
        {
          "output_type": "stream",
          "name": "stdout",
          "text": [
            "[[1. 0. 0.]\n",
            " [0. 1. 0.]\n",
            " [0. 0. 1.]]\n"
          ]
        }
      ]
    },
    {
      "cell_type": "code",
      "source": [
        "#create an identity matrix using identity() function\n",
        "identity_matrix=np.identity(3)\n",
        "print(identity_matrix)"
      ],
      "metadata": {
        "colab": {
          "base_uri": "https://localhost:8080/"
        },
        "id": "rG28zuozYWl0",
        "outputId": "28426801-633c-493d-9aae-ba571320a622"
      },
      "execution_count": null,
      "outputs": [
        {
          "output_type": "stream",
          "name": "stdout",
          "text": [
            "[[1. 0. 0.]\n",
            " [0. 1. 0.]\n",
            " [0. 0. 1.]]\n"
          ]
        }
      ]
    },
    {
      "cell_type": "markdown",
      "source": [
        "11.Create a 5X5 2D array for random number between 0 & 1"
      ],
      "metadata": {
        "id": "4PMv7frsYpbL"
      }
    },
    {
      "cell_type": "code",
      "source": [
        "#.Create a 5X5 2D array for random number between 0 & 1\n",
        "arr=np.random.rand(5,5)\n",
        "print(arr)"
      ],
      "metadata": {
        "colab": {
          "base_uri": "https://localhost:8080/"
        },
        "id": "4tZ1lC7sY1hr",
        "outputId": "eae717cc-0460-44b8-d5c5-46197f1cd463"
      },
      "execution_count": null,
      "outputs": [
        {
          "output_type": "stream",
          "name": "stdout",
          "text": [
            "[[0.64148415 0.28519045 0.90011306 0.99473709 0.96329733]\n",
            " [0.59663431 0.18338756 0.36655675 0.7782899  0.75190704]\n",
            " [0.12018549 0.26560486 0.00250217 0.55061902 0.40881752]\n",
            " [0.7482142  0.04023396 0.61909465 0.32612568 0.90454048]\n",
            " [0.8389639  0.54196166 0.13714282 0.34413576 0.27909573]]\n"
          ]
        }
      ]
    },
    {
      "cell_type": "markdown",
      "source": [
        "12.Sum an array along the column"
      ],
      "metadata": {
        "id": "bUGGoO7AZLxr"
      }
    },
    {
      "cell_type": "code",
      "source": [
        "#Sum an array along the column\n",
        "print(np.sum(arr,axis=0))"
      ],
      "metadata": {
        "colab": {
          "base_uri": "https://localhost:8080/"
        },
        "id": "7IdVsp8XZS4c",
        "outputId": "2da3890e-6175-4683-bdd6-ddec94b0c40a"
      },
      "execution_count": null,
      "outputs": [
        {
          "output_type": "stream",
          "name": "stdout",
          "text": [
            "[2.94548206 1.31637849 2.02540946 2.99390744 3.30765809]\n"
          ]
        }
      ]
    },
    {
      "cell_type": "markdown",
      "source": [
        "13.Sum an array along the row"
      ],
      "metadata": {
        "id": "I0BLIpoJZc79"
      }
    },
    {
      "cell_type": "code",
      "source": [
        "#Sum an array along the row\n",
        "print(np.sum(arr,axis=1))"
      ],
      "metadata": {
        "colab": {
          "base_uri": "https://localhost:8080/"
        },
        "id": "wiDj8xs4ZjIj",
        "outputId": "a52d9ce4-5a58-4fe4-ce90-b7f612d531c0"
      },
      "execution_count": null,
      "outputs": [
        {
          "output_type": "stream",
          "name": "stdout",
          "text": [
            "[3.78482208 2.67677556 1.34772906 2.63820897 2.14129988]\n"
          ]
        }
      ]
    },
    {
      "cell_type": "markdown",
      "source": [
        "14.Calculate the mean ,median,standard deviation and variance"
      ],
      "metadata": {
        "id": "kw1X1B_VZtiT"
      }
    },
    {
      "cell_type": "code",
      "source": [
        "print(np.mean(arr))\n",
        "print(np.median(arr))\n",
        "print(np.std(arr))\n",
        "print(np.var(arr))"
      ],
      "metadata": {
        "colab": {
          "base_uri": "https://localhost:8080/"
        },
        "id": "N-5Re_7MZ4Z9",
        "outputId": "f660b55f-0fe9-4039-a0ed-2d35982af5da"
      },
      "execution_count": null,
      "outputs": [
        {
          "output_type": "stream",
          "name": "stdout",
          "text": [
            "0.5035534219146872\n",
            "0.541961657375056\n",
            "0.29756987268322244\n",
            "0.0885478291287092\n"
          ]
        }
      ]
    },
    {
      "cell_type": "markdown",
      "source": [
        "15.Sort an array along the row using the sort() function\n"
      ],
      "metadata": {
        "id": "h-op-UgnaVPV"
      }
    },
    {
      "cell_type": "code",
      "source": [
        "arr=np.random.rand(5,5)\n",
        "print(arr)"
      ],
      "metadata": {
        "colab": {
          "base_uri": "https://localhost:8080/"
        },
        "id": "6NYaXgc7addc",
        "outputId": "fcf75bf1-046d-4665-f7d6-d8bf78681d24"
      },
      "execution_count": null,
      "outputs": [
        {
          "output_type": "stream",
          "name": "stdout",
          "text": [
            "[[0.16739369 0.37467499 0.86178815 0.00443167 0.47230767]\n",
            " [0.92015516 0.69897336 0.45341758 0.01507804 0.26041864]\n",
            " [0.47494704 0.74143539 0.15495944 0.34332636 0.18642177]\n",
            " [0.37683721 0.71260233 0.93417909 0.46358875 0.19240087]\n",
            " [0.91705161 0.86936522 0.19473412 0.44736611 0.8313092 ]]\n"
          ]
        }
      ]
    },
    {
      "cell_type": "code",
      "source": [
        "# sort along the row\n",
        "print(np.sort(arr,axis=1))"
      ],
      "metadata": {
        "colab": {
          "base_uri": "https://localhost:8080/"
        },
        "id": "5QdXdjLwa5Ck",
        "outputId": "9bef012a-c53e-4380-e0ac-de4cd04e930e"
      },
      "execution_count": null,
      "outputs": [
        {
          "output_type": "stream",
          "name": "stdout",
          "text": [
            "[[0.00443167 0.16739369 0.37467499 0.47230767 0.86178815]\n",
            " [0.01507804 0.26041864 0.45341758 0.69897336 0.92015516]\n",
            " [0.15495944 0.18642177 0.34332636 0.47494704 0.74143539]\n",
            " [0.19240087 0.37683721 0.46358875 0.71260233 0.93417909]\n",
            " [0.19473412 0.44736611 0.8313092  0.86936522 0.91705161]]\n"
          ]
        }
      ]
    },
    {
      "cell_type": "markdown",
      "source": [
        "16.Append element to an array using the append () function"
      ],
      "metadata": {
        "id": "KTdZudd9bBaV"
      }
    },
    {
      "cell_type": "code",
      "source": [
        "arr=np.array([4,5,6,7])\n",
        "arr1=np.append(arr,8)\n",
        "arr1"
      ],
      "metadata": {
        "colab": {
          "base_uri": "https://localhost:8080/"
        },
        "id": "HKrzcj8nbJDU",
        "outputId": "20865737-ea6a-4d9e-b7d0-b7c5a4cf59cf"
      },
      "execution_count": null,
      "outputs": [
        {
          "output_type": "execute_result",
          "data": {
            "text/plain": [
              "array([4, 5, 6, 7, 8])"
            ]
          },
          "metadata": {},
          "execution_count": 42
        }
      ]
    },
    {
      "cell_type": "code",
      "source": [
        "arr2=np.append(arr,[8,9,10])\n",
        "arr2"
      ],
      "metadata": {
        "colab": {
          "base_uri": "https://localhost:8080/"
        },
        "id": "8dgfWwzCbodD",
        "outputId": "f2fec7dd-2f7f-4afe-ab5a-449091ac01e2"
      },
      "execution_count": null,
      "outputs": [
        {
          "output_type": "execute_result",
          "data": {
            "text/plain": [
              "array([ 4,  5,  6,  7,  8,  9, 10])"
            ]
          },
          "metadata": {},
          "execution_count": 43
        }
      ]
    },
    {
      "cell_type": "markdown",
      "source": [
        "17.Delete multipe element in an array\n"
      ],
      "metadata": {
        "id": "T5RCrL7Abwvr"
      }
    },
    {
      "cell_type": "code",
      "source": [
        "arr2=np.array([4,5,6,7,8,9,10,11])\n",
        "print(arr2)\n",
        "print('\\n')\n",
        "arr5=np.delete(arr2,[1,4])\n",
        "print(arr5)"
      ],
      "metadata": {
        "colab": {
          "base_uri": "https://localhost:8080/"
        },
        "id": "p5EaEkarb2DT",
        "outputId": "af2ceb16-834e-4fff-eada-80ae50688972"
      },
      "execution_count": null,
      "outputs": [
        {
          "output_type": "stream",
          "name": "stdout",
          "text": [
            "[ 4  5  6  7  8  9 10 11]\n",
            "\n",
            "\n",
            "[ 4  6  7  9 10 11]\n"
          ]
        }
      ]
    },
    {
      "cell_type": "markdown",
      "source": [
        "18.Concatinate elements from 2D array"
      ],
      "metadata": {
        "id": "-0ke660xcS81"
      }
    },
    {
      "cell_type": "code",
      "source": [
        "arr1=np.array([[1,2,3,4],[1,2,3,4]])\n",
        "arr2=np.array([[5,6,7,8],[5,6,7,8]])\n",
        "#combine array item by column\n",
        "cat=np.concatenate((arr1,arr2),axis=0)\n",
        "print(cat)"
      ],
      "metadata": {
        "colab": {
          "base_uri": "https://localhost:8080/"
        },
        "id": "Q7OXG6oHcbi0",
        "outputId": "b34644a7-3fa9-46df-d030-16bc997260d6"
      },
      "execution_count": null,
      "outputs": [
        {
          "output_type": "stream",
          "name": "stdout",
          "text": [
            "[[1 2 3 4]\n",
            " [1 2 3 4]\n",
            " [5 6 7 8]\n",
            " [5 6 7 8]]\n"
          ]
        }
      ]
    },
    {
      "cell_type": "code",
      "source": [
        "#Combine array item by row\n",
        "cat=np.concatenate((arr1,arr2),axis=1)\n",
        "print(cat)\n"
      ],
      "metadata": {
        "colab": {
          "base_uri": "https://localhost:8080/"
        },
        "id": "ZTEDLSOMdIbi",
        "outputId": "498bc67f-ce48-47d1-81f8-b629fd6a46a2"
      },
      "execution_count": null,
      "outputs": [
        {
          "output_type": "stream",
          "name": "stdout",
          "text": [
            "[[1 2 3 4 5 6 7 8]\n",
            " [1 2 3 4 5 6 7 8]]\n"
          ]
        }
      ]
    }
  ]
}